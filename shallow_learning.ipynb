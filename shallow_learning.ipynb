{
 "cells": [
  {
   "cell_type": "code",
   "execution_count": 1,
   "id": "f355f984",
   "metadata": {},
   "outputs": [],
   "source": [
    "import pandas as pd\n",
    "import nltk\n",
    "import numpy as np"
   ]
  },
  {
   "cell_type": "code",
   "execution_count": 2,
   "id": "2d8056bd",
   "metadata": {},
   "outputs": [],
   "source": [
    "train_df = pd.read_csv('data_worthcheck/train.csv', usecols=['text_a', 'label'])\n",
    "test_df = pd.read_csv('data_worthcheck/test.csv')"
   ]
  },
  {
   "cell_type": "code",
   "execution_count": 3,
   "id": "3d82e0d1",
   "metadata": {},
   "outputs": [
    {
     "data": {
      "text/html": [
       "<div>\n",
       "<style scoped>\n",
       "    .dataframe tbody tr th:only-of-type {\n",
       "        vertical-align: middle;\n",
       "    }\n",
       "\n",
       "    .dataframe tbody tr th {\n",
       "        vertical-align: top;\n",
       "    }\n",
       "\n",
       "    .dataframe thead th {\n",
       "        text-align: right;\n",
       "    }\n",
       "</style>\n",
       "<table border=\"1\" class=\"dataframe\">\n",
       "  <thead>\n",
       "    <tr style=\"text-align: right;\">\n",
       "      <th></th>\n",
       "      <th>text_a</th>\n",
       "      <th>label</th>\n",
       "    </tr>\n",
       "  </thead>\n",
       "  <tbody>\n",
       "    <tr>\n",
       "      <th>0</th>\n",
       "      <td>betewe buka twitter cuman ngetweet liat home b...</td>\n",
       "      <td>no</td>\n",
       "    </tr>\n",
       "    <tr>\n",
       "      <th>1</th>\n",
       "      <td>mas piyuuu mugo2 corona tuh mulut tersumpal ma...</td>\n",
       "      <td>no</td>\n",
       "    </tr>\n",
       "    <tr>\n",
       "      <th>2</th>\n",
       "      <td>e100ss gini buka informasi sejelas nya identit...</td>\n",
       "      <td>yes</td>\n",
       "    </tr>\n",
       "    <tr>\n",
       "      <th>3</th>\n",
       "      <td>neng solo wes ono terduga corona cobo neng ati...</td>\n",
       "      <td>no</td>\n",
       "    </tr>\n",
       "    <tr>\n",
       "      <th>4</th>\n",
       "      <td>midiahn nii akun gak takut takut nya isu coron...</td>\n",
       "      <td>no</td>\n",
       "    </tr>\n",
       "  </tbody>\n",
       "</table>\n",
       "</div>"
      ],
      "text/plain": [
       "                                              text_a label\n",
       "0  betewe buka twitter cuman ngetweet liat home b...    no\n",
       "1  mas piyuuu mugo2 corona tuh mulut tersumpal ma...    no\n",
       "2  e100ss gini buka informasi sejelas nya identit...   yes\n",
       "3  neng solo wes ono terduga corona cobo neng ati...    no\n",
       "4  midiahn nii akun gak takut takut nya isu coron...    no"
      ]
     },
     "execution_count": 3,
     "metadata": {},
     "output_type": "execute_result"
    }
   ],
   "source": [
    "train_df.head()"
   ]
  },
  {
   "cell_type": "code",
   "execution_count": 4,
   "id": "f96eb9e4",
   "metadata": {},
   "outputs": [
    {
     "data": {
      "text/html": [
       "<div>\n",
       "<style scoped>\n",
       "    .dataframe tbody tr th:only-of-type {\n",
       "        vertical-align: middle;\n",
       "    }\n",
       "\n",
       "    .dataframe tbody tr th {\n",
       "        vertical-align: top;\n",
       "    }\n",
       "\n",
       "    .dataframe thead th {\n",
       "        text-align: right;\n",
       "    }\n",
       "</style>\n",
       "<table border=\"1\" class=\"dataframe\">\n",
       "  <thead>\n",
       "    <tr style=\"text-align: right;\">\n",
       "      <th></th>\n",
       "      <th>text_a</th>\n",
       "      <th>label</th>\n",
       "    </tr>\n",
       "  </thead>\n",
       "  <tbody>\n",
       "    <tr>\n",
       "      <th>0</th>\n",
       "      <td>jek dajal ga depok bang</td>\n",
       "      <td>no</td>\n",
       "    </tr>\n",
       "    <tr>\n",
       "      <th>1</th>\n",
       "      <td>detikcom untung depok masuk wilayah nya ridwan...</td>\n",
       "      <td>no</td>\n",
       "    </tr>\n",
       "    <tr>\n",
       "      <th>2</th>\n",
       "      <td>df dom jakarta depok yg gunain vc cabang nya c...</td>\n",
       "      <td>no</td>\n",
       "    </tr>\n",
       "    <tr>\n",
       "      <th>3</th>\n",
       "      <td>your2rl depok jkt</td>\n",
       "      <td>no</td>\n",
       "    </tr>\n",
       "    <tr>\n",
       "      <th>4</th>\n",
       "      <td>doakan indonesia selamat virus corona pkb depo...</td>\n",
       "      <td>yes</td>\n",
       "    </tr>\n",
       "  </tbody>\n",
       "</table>\n",
       "</div>"
      ],
      "text/plain": [
       "                                              text_a label\n",
       "0                            jek dajal ga depok bang    no\n",
       "1  detikcom untung depok masuk wilayah nya ridwan...    no\n",
       "2  df dom jakarta depok yg gunain vc cabang nya c...    no\n",
       "3                                  your2rl depok jkt    no\n",
       "4  doakan indonesia selamat virus corona pkb depo...   yes"
      ]
     },
     "execution_count": 4,
     "metadata": {},
     "output_type": "execute_result"
    }
   ],
   "source": [
    "test_df.head()"
   ]
  },
  {
   "cell_type": "code",
   "execution_count": 5,
   "id": "e868a52b",
   "metadata": {},
   "outputs": [],
   "source": [
    "train_df['label'] = train_df['label'].map({'yes':1, 'no': 0})"
   ]
  },
  {
   "cell_type": "code",
   "execution_count": 6,
   "id": "8f46d800",
   "metadata": {},
   "outputs": [],
   "source": [
    "test_df['label'] = test_df['label'].map({'yes':1, 'no': 0})"
   ]
  },
  {
   "cell_type": "code",
   "execution_count": 7,
   "id": "a5fd249d",
   "metadata": {},
   "outputs": [],
   "source": [
    "train_df['text_clean'] = train_df['text_a'].str.lower()\n",
    "test_df['text_clean'] = test_df['text_a'].str.lower()"
   ]
  },
  {
   "cell_type": "code",
   "execution_count": 8,
   "id": "54684499",
   "metadata": {},
   "outputs": [],
   "source": [
    "import re\n",
    "import string"
   ]
  },
  {
   "cell_type": "code",
   "execution_count": 9,
   "id": "6227b8ca",
   "metadata": {},
   "outputs": [],
   "source": [
    "# digit removal\n",
    "train_df['text_clean'] = train_df['text_clean'].apply(lambda x: re.sub(r\"\\d+\", \"\", x))\n",
    "test_df['text_clean'] = test_df['text_clean'].apply(lambda x: re.sub(r\"\\d+\", \"\", x))"
   ]
  },
  {
   "cell_type": "code",
   "execution_count": 10,
   "id": "0308895d",
   "metadata": {},
   "outputs": [],
   "source": [
    "# punctuation removal\n",
    "train_df['text_clean'] = train_df['text_clean'].apply(lambda x: x.translate(str.maketrans(\"\",\"\",string.punctuation)))\n",
    "test_df['text_clean'] = test_df['text_clean'].apply(lambda x: x.translate(str.maketrans(\"\",\"\",string.punctuation)))"
   ]
  },
  {
   "cell_type": "code",
   "execution_count": 11,
   "id": "37704ea6",
   "metadata": {},
   "outputs": [],
   "source": [
    "# tokenization\n",
    "train_df['text_clean'] = train_df['text_clean'].apply(lambda x: nltk.tokenize.word_tokenize(x))\n",
    "test_df['text_clean'] = test_df['text_clean'].apply(lambda x: nltk.tokenize.word_tokenize(x))"
   ]
  },
  {
   "cell_type": "code",
   "execution_count": 12,
   "id": "057bce48",
   "metadata": {},
   "outputs": [],
   "source": [
    "X_train = train_df['text_clean']\n",
    "y_train = train_df['label']\n",
    "\n",
    "X_test = test_df['text_clean']\n",
    "y_test = test_df['label']"
   ]
  },
  {
   "cell_type": "code",
   "execution_count": 13,
   "id": "f19d3a52",
   "metadata": {},
   "outputs": [
    {
     "data": {
      "text/html": [
       "<div>\n",
       "<style scoped>\n",
       "    .dataframe tbody tr th:only-of-type {\n",
       "        vertical-align: middle;\n",
       "    }\n",
       "\n",
       "    .dataframe tbody tr th {\n",
       "        vertical-align: top;\n",
       "    }\n",
       "\n",
       "    .dataframe thead th {\n",
       "        text-align: right;\n",
       "    }\n",
       "</style>\n",
       "<table border=\"1\" class=\"dataframe\">\n",
       "  <thead>\n",
       "    <tr style=\"text-align: right;\">\n",
       "      <th></th>\n",
       "      <th>text_a</th>\n",
       "      <th>label</th>\n",
       "      <th>text_clean</th>\n",
       "    </tr>\n",
       "  </thead>\n",
       "  <tbody>\n",
       "    <tr>\n",
       "      <th>0</th>\n",
       "      <td>betewe buka twitter cuman ngetweet liat home b...</td>\n",
       "      <td>0</td>\n",
       "      <td>[betewe, buka, twitter, cuman, ngetweet, liat,...</td>\n",
       "    </tr>\n",
       "    <tr>\n",
       "      <th>1</th>\n",
       "      <td>mas piyuuu mugo2 corona tuh mulut tersumpal ma...</td>\n",
       "      <td>0</td>\n",
       "      <td>[mas, piyuuu, mugo, corona, tuh, mulut, tersum...</td>\n",
       "    </tr>\n",
       "    <tr>\n",
       "      <th>2</th>\n",
       "      <td>e100ss gini buka informasi sejelas nya identit...</td>\n",
       "      <td>1</td>\n",
       "      <td>[ess, gini, buka, informasi, sejelas, nya, ide...</td>\n",
       "    </tr>\n",
       "    <tr>\n",
       "      <th>3</th>\n",
       "      <td>neng solo wes ono terduga corona cobo neng ati...</td>\n",
       "      <td>0</td>\n",
       "      <td>[neng, solo, wes, ono, terduga, corona, cobo, ...</td>\n",
       "    </tr>\n",
       "    <tr>\n",
       "      <th>4</th>\n",
       "      <td>midiahn nii akun gak takut takut nya isu coron...</td>\n",
       "      <td>0</td>\n",
       "      <td>[midiahn, nii, akun, gak, takut, takut, nya, i...</td>\n",
       "    </tr>\n",
       "  </tbody>\n",
       "</table>\n",
       "</div>"
      ],
      "text/plain": [
       "                                              text_a  label  \\\n",
       "0  betewe buka twitter cuman ngetweet liat home b...      0   \n",
       "1  mas piyuuu mugo2 corona tuh mulut tersumpal ma...      0   \n",
       "2  e100ss gini buka informasi sejelas nya identit...      1   \n",
       "3  neng solo wes ono terduga corona cobo neng ati...      0   \n",
       "4  midiahn nii akun gak takut takut nya isu coron...      0   \n",
       "\n",
       "                                          text_clean  \n",
       "0  [betewe, buka, twitter, cuman, ngetweet, liat,...  \n",
       "1  [mas, piyuuu, mugo, corona, tuh, mulut, tersum...  \n",
       "2  [ess, gini, buka, informasi, sejelas, nya, ide...  \n",
       "3  [neng, solo, wes, ono, terduga, corona, cobo, ...  \n",
       "4  [midiahn, nii, akun, gak, takut, takut, nya, i...  "
      ]
     },
     "execution_count": 13,
     "metadata": {},
     "output_type": "execute_result"
    }
   ],
   "source": [
    "train_df.head()"
   ]
  },
  {
   "cell_type": "markdown",
   "id": "eecfafd1",
   "metadata": {},
   "source": [
    "### word2vec using train data"
   ]
  },
  {
   "cell_type": "code",
   "execution_count": 14,
   "id": "f1efada9",
   "metadata": {},
   "outputs": [],
   "source": [
    "import gensim"
   ]
  },
  {
   "cell_type": "code",
   "execution_count": 15,
   "id": "3be16e9d",
   "metadata": {},
   "outputs": [],
   "source": [
    "w2v_model = gensim.models.Word2Vec(\n",
    "    X_train,\n",
    "    vector_size=100,\n",
    "    window=5,\n",
    "    min_count=2\n",
    ")"
   ]
  },
  {
   "cell_type": "code",
   "execution_count": 16,
   "id": "90630396",
   "metadata": {},
   "outputs": [
    {
     "data": {
      "text/plain": [
       "[('mpud', 0.9577487707138062),\n",
       " ('gusdur', 0.9220761656761169),\n",
       " ('parewa', 0.9126297831535339),\n",
       " ('staff', 0.9123938083648682),\n",
       " ('speechless', 0.910317599773407),\n",
       " ('terawan', 0.9095292687416077),\n",
       " ('menempuh', 0.9086610674858093),\n",
       " ('pecat', 0.9082935452461243),\n",
       " ('utuhwibowo', 0.9061846137046814),\n",
       " ('ruh', 0.9019810557365417)]"
      ]
     },
     "execution_count": 16,
     "metadata": {},
     "output_type": "execute_result"
    }
   ],
   "source": [
    "w2v_model.wv.most_similar('menkes')"
   ]
  },
  {
   "cell_type": "code",
   "execution_count": 17,
   "id": "a9c32e53",
   "metadata": {},
   "outputs": [],
   "source": [
    "words = set(w2v_model.wv.index_to_key )"
   ]
  },
  {
   "cell_type": "code",
   "execution_count": 18,
   "id": "278afd27",
   "metadata": {},
   "outputs": [],
   "source": [
    "X_train_vect = np.array([np.array([w2v_model.wv[i] for i in ls if i in words])\n",
    "                         for ls in X_train], dtype=object)\n",
    "X_test_vect = np.array([np.array([w2v_model.wv[i] for i in ls if i in words])\n",
    "                         for ls in X_test], dtype=object)"
   ]
  },
  {
   "cell_type": "code",
   "execution_count": 19,
   "id": "a116ead4",
   "metadata": {},
   "outputs": [],
   "source": [
    "X_train_vect_avg = []\n",
    "for v in X_train_vect:\n",
    "    if v.size:\n",
    "        X_train_vect_avg.append(v.mean(axis=0))\n",
    "    else:\n",
    "        X_train_vect_avg.append(np.zeros(100, dtype=float))\n",
    "        \n",
    "X_test_vect_avg = []\n",
    "for v in X_test_vect:\n",
    "    if v.size:\n",
    "        X_test_vect_avg.append(v.mean(axis=0))\n",
    "    else:\n",
    "        X_test_vect_avg.append(np.zeros(100, dtype=float))"
   ]
  },
  {
   "cell_type": "markdown",
   "id": "c3e10b61",
   "metadata": {},
   "source": [
    "## training"
   ]
  },
  {
   "cell_type": "markdown",
   "id": "eb9e75c1",
   "metadata": {},
   "source": [
    "### Random Forest"
   ]
  },
  {
   "cell_type": "code",
   "execution_count": 20,
   "id": "afd78a34",
   "metadata": {},
   "outputs": [],
   "source": [
    "from sklearn.ensemble import RandomForestClassifier"
   ]
  },
  {
   "cell_type": "code",
   "execution_count": 34,
   "id": "2968e1c9",
   "metadata": {},
   "outputs": [],
   "source": [
    "rf_gini_100 = RandomForestClassifier(random_state=0, criterion='gini', n_estimators=100).fit(X_train_vect_avg, y_train)"
   ]
  },
  {
   "cell_type": "code",
   "execution_count": 35,
   "id": "ba729b4a",
   "metadata": {},
   "outputs": [],
   "source": [
    "rf_gini_300 = RandomForestClassifier(random_state=0, criterion='gini', n_estimators=300).fit(X_train_vect_avg, y_train)"
   ]
  },
  {
   "cell_type": "code",
   "execution_count": 36,
   "id": "8520a3de",
   "metadata": {},
   "outputs": [],
   "source": [
    "rf_entropy_100 = RandomForestClassifier(random_state=0, criterion='entropy', n_estimators=100).fit(X_train_vect_avg, y_train)"
   ]
  },
  {
   "cell_type": "code",
   "execution_count": 37,
   "id": "fb6b1096",
   "metadata": {},
   "outputs": [],
   "source": [
    "rf_entropy_300 = RandomForestClassifier(random_state=0, criterion='entropy', n_estimators=300).fit(X_train_vect_avg, y_train)"
   ]
  },
  {
   "cell_type": "markdown",
   "id": "bb14d432",
   "metadata": {},
   "source": [
    "### XGBoost"
   ]
  },
  {
   "cell_type": "code",
   "execution_count": 21,
   "id": "b07466e9",
   "metadata": {},
   "outputs": [],
   "source": [
    "from sklearn.ensemble import GradientBoostingClassifier"
   ]
  },
  {
   "cell_type": "code",
   "execution_count": 39,
   "id": "b9c5350f",
   "metadata": {},
   "outputs": [],
   "source": [
    "xgb_friedman_100 = GradientBoostingClassifier(\n",
    "                        criterion='friedman_mse', n_estimators=100, random_state=0).fit(X_train_vect_avg, y_train)"
   ]
  },
  {
   "cell_type": "code",
   "execution_count": 40,
   "id": "e227d196",
   "metadata": {},
   "outputs": [],
   "source": [
    "xgb_friedman_300 = GradientBoostingClassifier(\n",
    "                        criterion='friedman_mse', n_estimators=300, random_state=0).fit(X_train_vect_avg, y_train)"
   ]
  },
  {
   "cell_type": "code",
   "execution_count": 41,
   "id": "4da79c4f",
   "metadata": {},
   "outputs": [],
   "source": [
    "xgb_se_100 = GradientBoostingClassifier(\n",
    "                        criterion='squared_error', n_estimators=100, random_state=0).fit(X_train_vect_avg, y_train)"
   ]
  },
  {
   "cell_type": "code",
   "execution_count": 42,
   "id": "60e2815c",
   "metadata": {},
   "outputs": [],
   "source": [
    "xgb_se_300 = GradientBoostingClassifier(\n",
    "                        criterion='squared_error', n_estimators=300, random_state=0).fit(X_train_vect_avg, y_train)"
   ]
  },
  {
   "cell_type": "markdown",
   "id": "c28f4355",
   "metadata": {},
   "source": [
    "### SVM"
   ]
  },
  {
   "cell_type": "code",
   "execution_count": 22,
   "id": "3a2370b5",
   "metadata": {},
   "outputs": [],
   "source": [
    "from sklearn.pipeline import make_pipeline\n",
    "from sklearn.preprocessing import StandardScaler\n",
    "from sklearn.svm import SVC"
   ]
  },
  {
   "cell_type": "code",
   "execution_count": 57,
   "id": "1b5c55a3",
   "metadata": {},
   "outputs": [],
   "source": [
    "svc_auto = make_pipeline(StandardScaler(), SVC(gamma='auto', random_state=0)).fit(X_train_vect_avg, y_train)"
   ]
  },
  {
   "cell_type": "code",
   "execution_count": 58,
   "id": "61e29f9d",
   "metadata": {},
   "outputs": [],
   "source": [
    "svc_scale = make_pipeline(StandardScaler(), SVC(gamma='scale', random_state=0)).fit(X_train_vect_avg, y_train)"
   ]
  },
  {
   "cell_type": "markdown",
   "id": "6b2dea08",
   "metadata": {},
   "source": [
    "### Prediction"
   ]
  },
  {
   "cell_type": "code",
   "execution_count": 45,
   "id": "dcf6c75a",
   "metadata": {},
   "outputs": [],
   "source": [
    "from sklearn.metrics import precision_score, recall_score"
   ]
  },
  {
   "cell_type": "markdown",
   "id": "77776a00",
   "metadata": {},
   "source": [
    "#### Random Forrest"
   ]
  },
  {
   "cell_type": "code",
   "execution_count": 47,
   "id": "421bcc95",
   "metadata": {},
   "outputs": [
    {
     "name": "stdout",
     "output_type": "stream",
     "text": [
      "Gini with 100 estimator\n",
      "Precision: 0.727 / Recall: 0.55 / Accuracy: 0.834\n"
     ]
    }
   ],
   "source": [
    "y_pred_rf_gini_100 = rf_gini_100.predict(X_test_vect_avg)\n",
    "\n",
    "precision = precision_score(y_test, y_pred_rf_gini_100)\n",
    "recall = recall_score(y_test, y_pred_rf_gini_100)\n",
    "print('Gini with 100 estimator')\n",
    "print('Precision: {} / Recall: {} / Accuracy: {}'.format(\n",
    "    round(precision, 3), round(recall, 3), round((y_pred_rf_gini_100==y_test).sum()/len(y_pred_rf_gini_100), 3)))"
   ]
  },
  {
   "cell_type": "code",
   "execution_count": 48,
   "id": "23253e23",
   "metadata": {},
   "outputs": [
    {
     "name": "stdout",
     "output_type": "stream",
     "text": [
      "Gini with 300 estimator\n",
      "Precision: 0.743 / Recall: 0.556 / Accuracy: 0.839\n"
     ]
    }
   ],
   "source": [
    "y_pred_rf_gini_300 = rf_gini_300.predict(X_test_vect_avg)\n",
    "\n",
    "precision = precision_score(y_test, y_pred_rf_gini_300)\n",
    "recall = recall_score(y_test, y_pred_rf_gini_300)\n",
    "print('Gini with 300 estimator')\n",
    "print('Precision: {} / Recall: {} / Accuracy: {}'.format(\n",
    "    round(precision, 3), round(recall, 3), round((y_pred_rf_gini_300==y_test).sum()/len(y_pred_rf_gini_300), 3)))"
   ]
  },
  {
   "cell_type": "code",
   "execution_count": 49,
   "id": "8ead0911",
   "metadata": {},
   "outputs": [
    {
     "name": "stdout",
     "output_type": "stream",
     "text": [
      "Entropy with 100 estimator\n",
      "Precision: 0.742 / Recall: 0.57 / Accuracy: 0.841\n"
     ]
    }
   ],
   "source": [
    "y_pred_rf_entropy_100 = rf_entropy_100.predict(X_test_vect_avg)\n",
    "\n",
    "precision = precision_score(y_test, y_pred_rf_entropy_100)\n",
    "recall = recall_score(y_test, y_pred_rf_entropy_100)\n",
    "print('Entropy with 100 estimator')\n",
    "print('Precision: {} / Recall: {} / Accuracy: {}'.format(\n",
    "    round(precision, 3), round(recall, 3), round((y_pred_rf_entropy_100==y_test).sum()/len(y_pred_rf_entropy_100), 3)))"
   ]
  },
  {
   "cell_type": "code",
   "execution_count": 50,
   "id": "e97fbcaa",
   "metadata": {},
   "outputs": [
    {
     "name": "stdout",
     "output_type": "stream",
     "text": [
      "Entropy with 300 estimator\n",
      "Precision: 0.74 / Recall: 0.569 / Accuracy: 0.841\n"
     ]
    }
   ],
   "source": [
    "y_pred_rf_entropy_300 = rf_entropy_300.predict(X_test_vect_avg)\n",
    "\n",
    "precision = precision_score(y_test, y_pred_rf_entropy_300)\n",
    "recall = recall_score(y_test, y_pred_rf_entropy_300)\n",
    "print('Entropy with 300 estimator')\n",
    "print('Precision: {} / Recall: {} / Accuracy: {}'.format(\n",
    "    round(precision, 3), round(recall, 3), round((y_pred_rf_entropy_300==y_test).sum()/len(y_pred_rf_entropy_300), 3)))"
   ]
  },
  {
   "cell_type": "markdown",
   "id": "58f7801d",
   "metadata": {},
   "source": [
    "#### XGBoost"
   ]
  },
  {
   "cell_type": "code",
   "execution_count": 51,
   "id": "06010a5b",
   "metadata": {},
   "outputs": [
    {
     "name": "stdout",
     "output_type": "stream",
     "text": [
      "Friedman mse with 100 estimator\n",
      "Precision: 0.676 / Recall: 0.54 / Accuracy: 0.819\n"
     ]
    }
   ],
   "source": [
    "y_pred_xgb_friedman_100 = xgb_friedman_100.predict(X_test_vect_avg)\n",
    "\n",
    "precision = precision_score(y_test, y_pred_xgb_friedman_100)\n",
    "recall = recall_score(y_test, y_pred_xgb_friedman_100)\n",
    "print('Friedman mse with 100 estimator')\n",
    "print('Precision: {} / Recall: {} / Accuracy: {}'.format(\n",
    "    round(precision, 3), round(recall, 3), round((y_pred_xgb_friedman_100==y_test).sum()/len(y_pred_xgb_friedman_100), 3)))"
   ]
  },
  {
   "cell_type": "code",
   "execution_count": 52,
   "id": "9cfbafbb",
   "metadata": {},
   "outputs": [
    {
     "name": "stdout",
     "output_type": "stream",
     "text": [
      "Friedman mse with 300 estimator\n",
      "Precision: 0.686 / Recall: 0.557 / Accuracy: 0.824\n"
     ]
    }
   ],
   "source": [
    "y_pred_xgb_friedman_300 = xgb_friedman_300.predict(X_test_vect_avg)\n",
    "\n",
    "precision = precision_score(y_test, y_pred_xgb_friedman_300)\n",
    "recall = recall_score(y_test, y_pred_xgb_friedman_300)\n",
    "print('Friedman mse with 300 estimator')\n",
    "print('Precision: {} / Recall: {} / Accuracy: {}'.format(\n",
    "    round(precision, 3), round(recall, 3), round((y_pred_xgb_friedman_300==y_test).sum()/len(y_pred_xgb_friedman_300), 3)))"
   ]
  },
  {
   "cell_type": "code",
   "execution_count": 53,
   "id": "7fa21087",
   "metadata": {},
   "outputs": [
    {
     "name": "stdout",
     "output_type": "stream",
     "text": [
      "se with 100 estimator\n",
      "Precision: 0.676 / Recall: 0.54 / Accuracy: 0.819\n"
     ]
    }
   ],
   "source": [
    "y_pred_xgb_se_100 = xgb_se_100.predict(X_test_vect_avg)\n",
    "\n",
    "precision = precision_score(y_test, y_pred_xgb_se_100)\n",
    "recall = recall_score(y_test, y_pred_xgb_se_100)\n",
    "print('se with 100 estimator')\n",
    "print('Precision: {} / Recall: {} / Accuracy: {}'.format(\n",
    "    round(precision, 3), round(recall, 3), round((y_pred_xgb_se_100==y_test).sum()/len(y_pred_xgb_se_100), 3)))"
   ]
  },
  {
   "cell_type": "code",
   "execution_count": 54,
   "id": "f02a1ad9",
   "metadata": {},
   "outputs": [
    {
     "name": "stdout",
     "output_type": "stream",
     "text": [
      "se with 300 estimator\n",
      "Precision: 0.686 / Recall: 0.557 / Accuracy: 0.824\n"
     ]
    }
   ],
   "source": [
    "y_pred_xgb_se_300 = xgb_se_300.predict(X_test_vect_avg)\n",
    "\n",
    "precision = precision_score(y_test, y_pred_xgb_se_300)\n",
    "recall = recall_score(y_test, y_pred_xgb_se_300)\n",
    "print('se with 300 estimator')\n",
    "print('Precision: {} / Recall: {} / Accuracy: {}'.format(\n",
    "    round(precision, 3), round(recall, 3), round((y_pred_xgb_se_300==y_test).sum()/len(y_pred_xgb_se_300), 3)))"
   ]
  },
  {
   "cell_type": "markdown",
   "id": "bc3628f7",
   "metadata": {},
   "source": [
    "#### SVC"
   ]
  },
  {
   "cell_type": "code",
   "execution_count": 59,
   "id": "dd323bb1",
   "metadata": {},
   "outputs": [
    {
     "name": "stdout",
     "output_type": "stream",
     "text": [
      "Gamma=auto\n",
      "Precision: 0.741 / Recall: 0.515 / Accuracy: 0.832\n"
     ]
    }
   ],
   "source": [
    "y_pred_svc_auto = svc_auto.predict(X_test_vect_avg)\n",
    "\n",
    "precision = precision_score(y_test, y_pred_svc_auto)\n",
    "recall = recall_score(y_test, y_pred_svc_auto)\n",
    "print('Gamma=auto')\n",
    "print('Precision: {} / Recall: {} / Accuracy: {}'.format(\n",
    "    round(precision, 3), round(recall, 3), round((y_pred_svc_auto==y_test).sum()/len(y_pred_svc_auto), 3)))"
   ]
  },
  {
   "cell_type": "code",
   "execution_count": 60,
   "id": "92ae8e66",
   "metadata": {},
   "outputs": [
    {
     "name": "stdout",
     "output_type": "stream",
     "text": [
      "Gamma=scale\n",
      "Precision: 0.741 / Recall: 0.515 / Accuracy: 0.832\n"
     ]
    }
   ],
   "source": [
    "y_pred_svc_scale = svc_scale.predict(X_test_vect_avg)\n",
    "\n",
    "precision = precision_score(y_test, y_pred_svc_scale)\n",
    "recall = recall_score(y_test, y_pred_svc_scale)\n",
    "print('Gamma=scale')\n",
    "print('Precision: {} / Recall: {} / Accuracy: {}'.format(\n",
    "    round(precision, 3), round(recall, 3), round((y_pred_svc_scale==y_test).sum()/len(y_pred_svc_scale), 3)))"
   ]
  },
  {
   "cell_type": "code",
   "execution_count": null,
   "id": "93388203",
   "metadata": {},
   "outputs": [],
   "source": []
  }
 ],
 "metadata": {
  "kernelspec": {
   "display_name": "Python 3 (ipykernel)",
   "language": "python",
   "name": "python3"
  },
  "language_info": {
   "codemirror_mode": {
    "name": "ipython",
    "version": 3
   },
   "file_extension": ".py",
   "mimetype": "text/x-python",
   "name": "python",
   "nbconvert_exporter": "python",
   "pygments_lexer": "ipython3",
   "version": "3.10.7"
  }
 },
 "nbformat": 4,
 "nbformat_minor": 5
}
